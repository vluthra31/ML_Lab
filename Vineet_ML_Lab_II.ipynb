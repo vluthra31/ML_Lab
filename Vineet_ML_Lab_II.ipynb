{
 "cells": [
  {
   "cell_type": "code",
   "execution_count": 78,
   "metadata": {
    "collapsed": true
   },
   "outputs": [],
   "source": [
    "import numpy as np\n",
    "import pandas as pd\n",
    "import matplotlib.pyplot as plt"
   ]
  },
  {
   "cell_type": "code",
   "execution_count": 79,
   "metadata": {
    "collapsed": true
   },
   "outputs": [],
   "source": [
    "orders = pd.read_csv('Orders_cleaned.csv')"
   ]
  },
  {
   "cell_type": "code",
   "execution_count": 80,
   "metadata": {},
   "outputs": [
    {
     "name": "stdout",
     "output_type": "stream",
     "text": [
      "<class 'pandas.core.frame.DataFrame'>\n",
      "RangeIndex: 51290 entries, 0 to 51289\n",
      "Data columns (total 27 columns):\n",
      "Row.ID            51290 non-null int64\n",
      "Order.ID          51290 non-null object\n",
      "Order.Date        51290 non-null object\n",
      "Ship.Date         51290 non-null object\n",
      "Ship.Mode         51290 non-null object\n",
      "Customer.ID       51290 non-null object\n",
      "Customer.Name     51290 non-null object\n",
      "Segment           51290 non-null object\n",
      "Postal.Code       9994 non-null float64\n",
      "City              51290 non-null object\n",
      "State             51290 non-null object\n",
      "Country           51290 non-null object\n",
      "Region            51290 non-null object\n",
      "Market            51290 non-null object\n",
      "Product.ID        51290 non-null object\n",
      "Category          51290 non-null object\n",
      "Sub.Category      51290 non-null object\n",
      "Product.Name      51290 non-null object\n",
      "Sales             51290 non-null object\n",
      "Quantity          51290 non-null int64\n",
      "Discount          51290 non-null float64\n",
      "Profit            51290 non-null object\n",
      "Shipping.Cost     51290 non-null float64\n",
      "Order.Priority    51290 non-null object\n",
      "New_sales         51290 non-null float64\n",
      "New_profit        51290 non-null float64\n",
      "Order.Month       51290 non-null int64\n",
      "dtypes: float64(5), int64(3), object(19)\n",
      "memory usage: 10.6+ MB\n"
     ]
    }
   ],
   "source": [
    "orders.info()"
   ]
  },
  {
   "cell_type": "code",
   "execution_count": 81,
   "metadata": {},
   "outputs": [
    {
     "data": {
      "image/png": "[encoded data removed]",
      "text/plain": [
       "<matplotlib.figure.Figure at 0x11f562b00>"
      ]
     },
     "metadata": {},
     "output_type": "display_data"
    }
   ],
   "source": [
    "orders.hist()\n",
    "plt.show()"
   ]
  },
  {
   "cell_type": "code",
   "execution_count": 82,
   "metadata": {
    "collapsed": true
   },
   "outputs": [],
   "source": [
    "returns = pd.read_csv('returns.csv')"
   ]
  },
  {
   "cell_type": "code",
   "execution_count": 83,
   "metadata": {},
   "outputs": [
    {
     "data": {
      "text/plain": [
       "(1079, 3)"
      ]
     },
     "execution_count": 83,
     "metadata": {},
     "output_type": "execute_result"
    }
   ],
   "source": [
    "returns.shape"
   ]
  },
  {
   "cell_type": "code",
   "execution_count": 84,
   "metadata": {},
   "outputs": [
    {
     "data": {
      "text/plain": [
       "(51290, 27)"
      ]
     },
     "execution_count": 84,
     "metadata": {},
     "output_type": "execute_result"
    }
   ],
   "source": [
    "orders.shape"
   ]
  },
  {
   "cell_type": "code",
   "execution_count": 85,
   "metadata": {
    "collapsed": true
   },
   "outputs": [],
   "source": [
    "final = orders.join(returns, lsuffix = 'Order.ID', rsuffix = 'Order ID')"
   ]
  },
  {
   "cell_type": "code",
   "execution_count": 86,
   "metadata": {},
   "outputs": [
    {
     "data": {
      "text/plain": [
       "(51290, 30)"
      ]
     },
     "execution_count": 86,
     "metadata": {},
     "output_type": "execute_result"
    }
   ],
   "source": [
    "final.shape"
   ]
  },
  {
   "cell_type": "code",
   "execution_count": 87,
   "metadata": {},
   "outputs": [
    {
     "name": "stdout",
     "output_type": "stream",
     "text": [
      "<class 'pandas.core.frame.DataFrame'>\n",
      "RangeIndex: 51290 entries, 0 to 51289\n",
      "Data columns (total 30 columns):\n",
      "Row.ID            51290 non-null int64\n",
      "Order.ID          51290 non-null object\n",
      "Order.Date        51290 non-null object\n",
      "Ship.Date         51290 non-null object\n",
      "Ship.Mode         51290 non-null object\n",
      "Customer.ID       51290 non-null object\n",
      "Customer.Name     51290 non-null object\n",
      "Segment           51290 non-null object\n",
      "Postal.Code       9994 non-null float64\n",
      "City              51290 non-null object\n",
      "State             51290 non-null object\n",
      "Country           51290 non-null object\n",
      "RegionOrder.ID    51290 non-null object\n",
      "Market            51290 non-null object\n",
      "Product.ID        51290 non-null object\n",
      "Category          51290 non-null object\n",
      "Sub.Category      51290 non-null object\n",
      "Product.Name      51290 non-null object\n",
      "Sales             51290 non-null object\n",
      "Quantity          51290 non-null int64\n",
      "Discount          51290 non-null float64\n",
      "Profit            51290 non-null object\n",
      "Shipping.Cost     51290 non-null float64\n",
      "Order.Priority    51290 non-null object\n",
      "New_sales         51290 non-null float64\n",
      "New_profit        51290 non-null float64\n",
      "Order.Month       51290 non-null int64\n",
      "Returned          1079 non-null object\n",
      "Order ID          1079 non-null object\n",
      "RegionOrder ID    1079 non-null object\n",
      "dtypes: float64(5), int64(3), object(22)\n",
      "memory usage: 11.7+ MB\n"
     ]
    }
   ],
   "source": [
    "final.info()"
   ]
  },
  {
   "cell_type": "code",
   "execution_count": 88,
   "metadata": {
    "collapsed": true
   },
   "outputs": [],
   "source": [
    "final['Returned'] = final['Returned'].fillna('No')"
   ]
  },
  {
   "cell_type": "code",
   "execution_count": 89,
   "metadata": {},
   "outputs": [
    {
     "data": {
      "text/plain": [
       "array(['Yes', 'No'], dtype=object)"
      ]
     },
     "execution_count": 89,
     "metadata": {},
     "output_type": "execute_result"
    }
   ],
   "source": [
    "final['Returned'].unique()"
   ]
  },
  {
   "cell_type": "code",
   "execution_count": 90,
   "metadata": {},
   "outputs": [],
   "source": [
    "final['Ship.Date'] = pd.to_datetime(final['Ship.Date'])"
   ]
  },
  {
   "cell_type": "code",
   "execution_count": 91,
   "metadata": {
    "collapsed": true
   },
   "outputs": [],
   "source": [
    "final['Order.Date'] = pd.to_datetime(final['Order.Date'])"
   ]
  },
  {
   "cell_type": "code",
   "execution_count": 92,
   "metadata": {},
   "outputs": [],
   "source": [
    "final['Process.Time'] = final['Ship.Date'] - final['Order.Date']"
   ]
  },
  {
   "cell_type": "code",
   "execution_count": 93,
   "metadata": {},
   "outputs": [],
   "source": [
    "final['Process.Time'] = final['Process.Time'].astype(str)"
   ]
  },
  {
   "cell_type": "code",
   "execution_count": 94,
   "metadata": {},
   "outputs": [],
   "source": [
    "final['Process.Time'] = final['Process.Time'].str.replace('days', '')"
   ]
  },
  {
   "cell_type": "code",
   "execution_count": 95,
   "metadata": {
    "collapsed": true
   },
   "outputs": [],
   "source": [
    "final['Process.Time'] = final['Process.Time'].str.replace('00:00:00.000000000', '')"
   ]
  },
  {
   "cell_type": "code",
   "execution_count": 96,
   "metadata": {},
   "outputs": [],
   "source": [
    "final['Process.Time'] = final['Process.Time'].astype(int)"
   ]
  },
  {
   "cell_type": "code",
   "execution_count": 97,
   "metadata": {},
   "outputs": [
    {
     "data": {
      "text/plain": [
       "Index(['Row.ID', 'Order.ID', 'Order.Date', 'Ship.Date', 'Ship.Mode',\n",
       "       'Customer.ID', 'Customer.Name', 'Segment', 'Postal.Code', 'City',\n",
       "       'State', 'Country', 'RegionOrder.ID', 'Market', 'Product.ID',\n",
       "       'Category', 'Sub.Category', 'Product.Name', 'Sales', 'Quantity',\n",
       "       'Discount', 'Profit', 'Shipping.Cost', 'Order.Priority', 'New_sales',\n",
       "       'New_profit', 'Order.Month', 'Returned', 'Order ID', 'RegionOrder ID',\n",
       "       'Process.Time'],\n",
       "      dtype='object')"
      ]
     },
     "execution_count": 97,
     "metadata": {},
     "output_type": "execute_result"
    }
   ],
   "source": [
    "final.columns"
   ]
  },
  {
   "cell_type": "code",
   "execution_count": 98,
   "metadata": {},
   "outputs": [],
   "source": [
    "prod_return = final[final['Returned'] == 'Yes'].groupby(['Product.ID', 'Returned'], as_index = False)['Quantity'].sum()"
   ]
  },
  {
   "cell_type": "code",
   "execution_count": 99,
   "metadata": {},
   "outputs": [],
   "source": [
    "prod_return = prod_return.drop(labels = 'Returned', axis = 1)"
   ]
  },
  {
   "cell_type": "code",
   "execution_count": 100,
   "metadata": {},
   "outputs": [],
   "source": [
    "prod_return.columns = ['Product.ID', 'Return.Quantity']"
   ]
  },
  {
   "cell_type": "code",
   "execution_count": 101,
   "metadata": {},
   "outputs": [
    {
     "data": {
      "text/plain": [
       "Index(['Product.ID', 'Return.Quantity'], dtype='object')"
      ]
     },
     "execution_count": 101,
     "metadata": {},
     "output_type": "execute_result"
    }
   ],
   "source": [
    "prod_return.columns"
   ]
  },
  {
   "cell_type": "code",
   "execution_count": 102,
   "metadata": {
    "collapsed": true
   },
   "outputs": [],
   "source": [
    "order_final = final.merge(prod_return, how = 'left', on = 'Product.ID')"
   ]
  },
  {
   "cell_type": "code",
   "execution_count": 103,
   "metadata": {},
   "outputs": [
    {
     "name": "stdout",
     "output_type": "stream",
     "text": [
      "<class 'pandas.core.frame.DataFrame'>\n",
      "Int64Index: 51290 entries, 0 to 51289\n",
      "Data columns (total 32 columns):\n",
      "Row.ID             51290 non-null int64\n",
      "Order.ID           51290 non-null object\n",
      "Order.Date         51290 non-null datetime64[ns]\n",
      "Ship.Date          51290 non-null datetime64[ns]\n",
      "Ship.Mode          51290 non-null object\n",
      "Customer.ID        51290 non-null object\n",
      "Customer.Name      51290 non-null object\n",
      "Segment            51290 non-null object\n",
      "Postal.Code        9994 non-null float64\n",
      "City               51290 non-null object\n",
      "State              51290 non-null object\n",
      "Country            51290 non-null object\n",
      "RegionOrder.ID     51290 non-null object\n",
      "Market             51290 non-null object\n",
      "Product.ID         51290 non-null object\n",
      "Category           51290 non-null object\n",
      "Sub.Category       51290 non-null object\n",
      "Product.Name       51290 non-null object\n",
      "Sales              51290 non-null object\n",
      "Quantity           51290 non-null int64\n",
      "Discount           51290 non-null float64\n",
      "Profit             51290 non-null object\n",
      "Shipping.Cost      51290 non-null float64\n",
      "Order.Priority     51290 non-null object\n",
      "New_sales          51290 non-null float64\n",
      "New_profit         51290 non-null float64\n",
      "Order.Month        51290 non-null int64\n",
      "Returned           51290 non-null object\n",
      "Order ID           1079 non-null object\n",
      "RegionOrder ID     1079 non-null object\n",
      "Process.Time       51290 non-null int64\n",
      "Return.Quantity    8236 non-null float64\n",
      "dtypes: datetime64[ns](2), float64(6), int64(4), object(20)\n",
      "memory usage: 12.9+ MB\n"
     ]
    }
   ],
   "source": [
    "order_final.info()"
   ]
  },
  {
   "cell_type": "code",
   "execution_count": 104,
   "metadata": {},
   "outputs": [],
   "source": [
    "order_final['Return.Quantity'] = order_final['Return.Quantity'].fillna(0)"
   ]
  },
  {
   "cell_type": "code",
   "execution_count": 105,
   "metadata": {},
   "outputs": [
    {
     "name": "stdout",
     "output_type": "stream",
     "text": [
      "<class 'pandas.core.frame.DataFrame'>\n",
      "Int64Index: 51290 entries, 0 to 51289\n",
      "Data columns (total 32 columns):\n",
      "Row.ID             51290 non-null int64\n",
      "Order.ID           51290 non-null object\n",
      "Order.Date         51290 non-null datetime64[ns]\n",
      "Ship.Date          51290 non-null datetime64[ns]\n",
      "Ship.Mode          51290 non-null object\n",
      "Customer.ID        51290 non-null object\n",
      "Customer.Name      51290 non-null object\n",
      "Segment            51290 non-null object\n",
      "Postal.Code        9994 non-null float64\n",
      "City               51290 non-null object\n",
      "State              51290 non-null object\n",
      "Country            51290 non-null object\n",
      "RegionOrder.ID     51290 non-null object\n",
      "Market             51290 non-null object\n",
      "Product.ID         51290 non-null object\n",
      "Category           51290 non-null object\n",
      "Sub.Category       51290 non-null object\n",
      "Product.Name       51290 non-null object\n",
      "Sales              51290 non-null object\n",
      "Quantity           51290 non-null int64\n",
      "Discount           51290 non-null float64\n",
      "Profit             51290 non-null object\n",
      "Shipping.Cost      51290 non-null float64\n",
      "Order.Priority     51290 non-null object\n",
      "New_sales          51290 non-null float64\n",
      "New_profit         51290 non-null float64\n",
      "Order.Month        51290 non-null int64\n",
      "Returned           51290 non-null object\n",
      "Order ID           1079 non-null object\n",
      "RegionOrder ID     1079 non-null object\n",
      "Process.Time       51290 non-null int64\n",
      "Return.Quantity    51290 non-null float64\n",
      "dtypes: datetime64[ns](2), float64(6), int64(4), object(20)\n",
      "memory usage: 12.9+ MB\n"
     ]
    }
   ],
   "source": [
    "order_final.info()"
   ]
  },
  {
   "cell_type": "code",
   "execution_count": 106,
   "metadata": {},
   "outputs": [],
   "source": [
    "model_final = order_final[['Ship.Mode', 'Segment', 'RegionOrder.ID', 'Market', 'Category', 'Sub.Category', 'Quantity', 'Discount', 'Shipping.Cost', 'Order.Priority', 'New_sales', 'New_profit','Order.Month','Returned','Process.Time', 'Return.Quantity']]"
   ]
  },
  {
   "cell_type": "code",
   "execution_count": 107,
   "metadata": {},
   "outputs": [
    {
     "name": "stdout",
     "output_type": "stream",
     "text": [
      "<class 'pandas.core.frame.DataFrame'>\n",
      "Int64Index: 51290 entries, 0 to 51289\n",
      "Data columns (total 16 columns):\n",
      "Ship.Mode          51290 non-null object\n",
      "Segment            51290 non-null object\n",
      "RegionOrder.ID     51290 non-null object\n",
      "Market             51290 non-null object\n",
      "Category           51290 non-null object\n",
      "Sub.Category       51290 non-null object\n",
      "Quantity           51290 non-null int64\n",
      "Discount           51290 non-null float64\n",
      "Shipping.Cost      51290 non-null float64\n",
      "Order.Priority     51290 non-null object\n",
      "New_sales          51290 non-null float64\n",
      "New_profit         51290 non-null float64\n",
      "Order.Month        51290 non-null int64\n",
      "Returned           51290 non-null object\n",
      "Process.Time       51290 non-null int64\n",
      "Return.Quantity    51290 non-null float64\n",
      "dtypes: float64(5), int64(3), object(8)\n",
      "memory usage: 6.7+ MB\n"
     ]
    }
   ],
   "source": [
    "model_final.info()"
   ]
  },
  {
   "cell_type": "code",
   "execution_count": 108,
   "metadata": {},
   "outputs": [
    {
     "name": "stdout",
     "output_type": "stream",
     "text": [
      "<class 'pandas.core.frame.DataFrame'>\n",
      "Int64Index: 51290 entries, 0 to 51289\n",
      "Data columns (total 16 columns):\n",
      "Ship.Mode          51290 non-null object\n",
      "Segment            51290 non-null object\n",
      "RegionOrder.ID     51290 non-null object\n",
      "Market             51290 non-null object\n",
      "Category           51290 non-null object\n",
      "Sub.Category       51290 non-null object\n",
      "Quantity           51290 non-null int64\n",
      "Discount           51290 non-null float64\n",
      "Shipping.Cost      51290 non-null float64\n",
      "Order.Priority     51290 non-null object\n",
      "New_sales          51290 non-null float64\n",
      "New_profit         51290 non-null float64\n",
      "Order.Month        51290 non-null int64\n",
      "Returned           51290 non-null object\n",
      "Process.Time       51290 non-null int64\n",
      "Return.Quantity    51290 non-null float64\n",
      "dtypes: float64(5), int64(3), object(8)\n",
      "memory usage: 6.7+ MB\n"
     ]
    }
   ],
   "source": [
    "model_final.info()"
   ]
  },
  {
   "cell_type": "code",
   "execution_count": 77,
   "metadata": {
    "collapsed": true
   },
   "outputs": [],
   "source": []
  },
  {
   "cell_type": "code",
   "execution_count": null,
   "metadata": {
    "collapsed": true
   },
   "outputs": [],
   "source": []
  },
  {
   "cell_type": "code",
   "execution_count": 137,
   "metadata": {
    "collapsed": true
   },
   "outputs": [],
   "source": [
    "from sklearn.model_selection import train_test_split\n",
    "train, test = train_test_split(model_final, test_size=0.2, random_state = 100)"
   ]
  },
  {
   "cell_type": "code",
   "execution_count": 138,
   "metadata": {
    "collapsed": true
   },
   "outputs": [],
   "source": [
    "train_return = train['Returned']"
   ]
  },
  {
   "cell_type": "code",
   "execution_count": 139,
   "metadata": {
    "collapsed": true
   },
   "outputs": [],
   "source": [
    "train = train.drop(labels = 'Returned', axis = 1)"
   ]
  },
  {
   "cell_type": "code",
   "execution_count": 140,
   "metadata": {
    "collapsed": true
   },
   "outputs": [],
   "source": [
    "test_return = test['Returned']"
   ]
  },
  {
   "cell_type": "code",
   "execution_count": 141,
   "metadata": {
    "collapsed": true
   },
   "outputs": [],
   "source": [
    "test = test.drop(labels = 'Returned', axis = 1)"
   ]
  },
  {
   "cell_type": "code",
   "execution_count": 142,
   "metadata": {
    "collapsed": true
   },
   "outputs": [],
   "source": [
    "model_train_dum = pd.get_dummies(train, drop_first = True)"
   ]
  },
  {
   "cell_type": "code",
   "execution_count": 143,
   "metadata": {
    "collapsed": true
   },
   "outputs": [],
   "source": [
    "model_test_dum = pd.get_dummies(test, drop_first = True)"
   ]
  },
  {
   "cell_type": "code",
   "execution_count": 144,
   "metadata": {},
   "outputs": [
    {
     "data": {
      "text/plain": [
       "(41032, 60)"
      ]
     },
     "execution_count": 144,
     "metadata": {},
     "output_type": "execute_result"
    }
   ],
   "source": [
    "model_train_dum.shape"
   ]
  },
  {
   "cell_type": "code",
   "execution_count": 145,
   "metadata": {},
   "outputs": [
    {
     "data": {
      "text/plain": [
       "(10258, 60)"
      ]
     },
     "execution_count": 145,
     "metadata": {},
     "output_type": "execute_result"
    }
   ],
   "source": [
    "model_test_dum.shape"
   ]
  },
  {
   "cell_type": "code",
   "execution_count": 146,
   "metadata": {},
   "outputs": [
    {
     "data": {
      "text/plain": [
       "(10258, 15)"
      ]
     },
     "execution_count": 146,
     "metadata": {},
     "output_type": "execute_result"
    }
   ],
   "source": [
    "test.shape"
   ]
  },
  {
   "cell_type": "code",
   "execution_count": 147,
   "metadata": {},
   "outputs": [
    {
     "name": "stdout",
     "output_type": "stream",
     "text": [
      "<class 'pandas.core.frame.DataFrame'>\n",
      "Int64Index: 41032 entries, 30197 to 38408\n",
      "Data columns (total 15 columns):\n",
      "Ship.Mode          41032 non-null object\n",
      "Segment            41032 non-null object\n",
      "RegionOrder.ID     41032 non-null object\n",
      "Market             41032 non-null object\n",
      "Category           41032 non-null object\n",
      "Sub.Category       41032 non-null object\n",
      "Quantity           41032 non-null int64\n",
      "Discount           41032 non-null float64\n",
      "Shipping.Cost      41032 non-null float64\n",
      "Order.Priority     41032 non-null object\n",
      "New_sales          41032 non-null float64\n",
      "New_profit         41032 non-null float64\n",
      "Order.Month        41032 non-null int64\n",
      "Process.Time       41032 non-null int64\n",
      "Return.Quantity    41032 non-null float64\n",
      "dtypes: float64(5), int64(3), object(7)\n",
      "memory usage: 5.0+ MB\n"
     ]
    }
   ],
   "source": [
    "train.info()"
   ]
  },
  {
   "cell_type": "code",
   "execution_count": 148,
   "metadata": {},
   "outputs": [
    {
     "data": {
      "text/plain": [
       "RandomForestClassifier(bootstrap=True, class_weight=None, criterion='gini',\n",
       "            max_depth=None, max_features='auto', max_leaf_nodes=None,\n",
       "            min_impurity_split=1e-07, min_samples_leaf=1,\n",
       "            min_samples_split=2, min_weight_fraction_leaf=0.0,\n",
       "            n_estimators=10, n_jobs=1, oob_score=False, random_state=None,\n",
       "            verbose=0, warm_start=False)"
      ]
     },
     "execution_count": 148,
     "metadata": {},
     "output_type": "execute_result"
    }
   ],
   "source": [
    "from sklearn import ensemble\n",
    "randomForest = ensemble.RandomForestClassifier()\n",
    "randomForest.fit(model_train_dum, train_return)"
   ]
  },
  {
   "cell_type": "code",
   "execution_count": 149,
   "metadata": {},
   "outputs": [
    {
     "data": {
      "text/plain": [
       "GridSearchCV(cv=5, error_score='raise',\n",
       "       estimator=RandomForestClassifier(bootstrap=True, class_weight=None, criterion='gini',\n",
       "            max_depth=None, max_features='auto', max_leaf_nodes=None,\n",
       "            min_impurity_split=1e-07, min_samples_leaf=1,\n",
       "            min_samples_split=2, min_weight_fraction_leaf=0.0,\n",
       "            n_estimators=10, n_jobs=1, oob_score=False, random_state=None,\n",
       "            verbose=0, warm_start=False),\n",
       "       fit_params={}, iid=True, n_jobs=-1,\n",
       "       param_grid=[{'min_samples_leaf': range(1, 10), 'n_estimators': [3, 5, 7, 9], 'criterion': ['gini'], 'random_state': [100]}],\n",
       "       pre_dispatch='2*n_jobs', refit=True, return_train_score=True,\n",
       "       scoring='accuracy', verbose=0)"
      ]
     },
     "execution_count": 149,
     "metadata": {},
     "output_type": "execute_result"
    }
   ],
   "source": [
    "from sklearn import ensemble\n",
    "from sklearn.model_selection import GridSearchCV\n",
    "randomForest = ensemble.RandomForestClassifier()\n",
    "grid_para_forest = [{\n",
    "   \"n_estimators\": [3, 5, 7, 9],\n",
    "   \"criterion\": [\"gini\"],\n",
    "   \"min_samples_leaf\": range(1, 10),\n",
    "   \"random_state\": [100]}]\n",
    "grid_search_forest = GridSearchCV(randomForest, grid_para_forest, scoring='accuracy', cv=5, n_jobs=-1)\n",
    "grid_search_forest.fit(model_train_dum, train_return)"
   ]
  },
  {
   "cell_type": "code",
   "execution_count": 150,
   "metadata": {},
   "outputs": [
    {
     "data": {
      "text/plain": [
       "{'criterion': 'gini',\n",
       " 'min_samples_leaf': 4,\n",
       " 'n_estimators': 9,\n",
       " 'random_state': 100}"
      ]
     },
     "execution_count": 150,
     "metadata": {},
     "output_type": "execute_result"
    }
   ],
   "source": [
    "grid_search_forest.best_params_"
   ]
  },
  {
   "cell_type": "code",
   "execution_count": 151,
   "metadata": {},
   "outputs": [
    {
     "data": {
      "text/plain": [
       "RandomForestClassifier(bootstrap=True, class_weight=None, criterion='gini',\n",
       "            max_depth=None, max_features='auto', max_leaf_nodes=None,\n",
       "            min_impurity_split=1e-07, min_samples_leaf=4,\n",
       "            min_samples_split=2, min_weight_fraction_leaf=0.0,\n",
       "            n_estimators=9, n_jobs=1, oob_score=False, random_state=100,\n",
       "            verbose=0, warm_start=False)"
      ]
     },
     "execution_count": 151,
     "metadata": {},
     "output_type": "execute_result"
    }
   ],
   "source": [
    "randomForest.set_params(criterion = 'gini', min_samples_leaf = 4, n_estimators = 9, random_state = 100)"
   ]
  },
  {
   "cell_type": "code",
   "execution_count": 152,
   "metadata": {},
   "outputs": [
    {
     "data": {
      "text/plain": [
       "RandomForestClassifier(bootstrap=True, class_weight=None, criterion='gini',\n",
       "            max_depth=None, max_features='auto', max_leaf_nodes=None,\n",
       "            min_impurity_split=1e-07, min_samples_leaf=4,\n",
       "            min_samples_split=2, min_weight_fraction_leaf=0.0,\n",
       "            n_estimators=9, n_jobs=1, oob_score=False, random_state=100,\n",
       "            verbose=0, warm_start=False)"
      ]
     },
     "execution_count": 152,
     "metadata": {},
     "output_type": "execute_result"
    }
   ],
   "source": [
    "randomForest.fit(model_train_dum, train_return)"
   ]
  },
  {
   "cell_type": "code",
   "execution_count": 153,
   "metadata": {},
   "outputs": [],
   "source": [
    "y_pred = randomForest.predict(model_test_dum)"
   ]
  },
  {
   "cell_type": "code",
   "execution_count": 154,
   "metadata": {},
   "outputs": [],
   "source": [
    "from sklearn.metrics import confusion_matrix"
   ]
  },
  {
   "cell_type": "code",
   "execution_count": 155,
   "metadata": {},
   "outputs": [
    {
     "data": {
      "text/plain": [
       "array([[10027,     0],\n",
       "       [   46,   185]])"
      ]
     },
     "execution_count": 155,
     "metadata": {},
     "output_type": "execute_result"
    }
   ],
   "source": [
    "confusion_matrix(test_return, y_pred)"
   ]
  },
  {
   "cell_type": "code",
   "execution_count": null,
   "metadata": {
    "collapsed": true
   },
   "outputs": [],
   "source": []
  }
 ],
 "metadata": {
  "kernelspec": {
   "display_name": "Python 3",
   "language": "python",
   "name": "python3"
  },
  "language_info": {
   "codemirror_mode": {
    "name": "ipython",
    "version": 3
   },
   "file_extension": ".py",
   "mimetype": "text/x-python",
   "name": "python",
   "nbconvert_exporter": "python",
   "pygments_lexer": "ipython3",
   "version": "3.5.3"
  }
 },
 "nbformat": 4,
 "nbformat_minor": 2
}
